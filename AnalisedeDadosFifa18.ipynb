{
 "cells": [
  {
   "cell_type": "code",
   "execution_count": 1,
   "metadata": {},
   "outputs": [],
   "source": [
    "#Analise de Dados do jogo FIFA 2018\n",
    "#Alunos: Alexandre Martins / Matheus Constantino\n",
    "#Trabalho de Laboratorio de Banco de Dados\n",
    "#5ºsemestre"
   ]
  },
  {
   "cell_type": "code",
   "execution_count": 2,
   "metadata": {},
   "outputs": [],
   "source": [
    "#Imports de Libs\n",
    "import pandas as pd\n",
    "import re\n",
    "import seaborn as sns\n",
    "import numpy as np"
   ]
  },
  {
   "cell_type": "code",
   "execution_count": 5,
   "metadata": {},
   "outputs": [
    {
     "name": "stdout",
     "output_type": "stream",
     "text": [
      "Arquivo Lido!\n"
     ]
    }
   ],
   "source": [
    "#fazendo leitura do arquivo para analise de dados\n",
    "data = pd.read_csv('CompleteDataset.csv')\n",
    "print('Arquivo Lido!')"
   ]
  },
  {
   "cell_type": "code",
   "execution_count": 6,
   "metadata": {},
   "outputs": [
    {
     "name": "stdout",
     "output_type": "stream",
     "text": [
      "Colunas Excluidas!\n"
     ]
    }
   ],
   "source": [
    "#Excluindo algumas colunas que não são de interesse para analise\n",
    "data.drop(['Unnamed: 0', 'Photo', 'Flag', 'Club Logo'], axis = 1, inplace = True)\n",
    "print('Colunas Excluidas!')"
   ]
  },
  {
   "cell_type": "code",
   "execution_count": 7,
   "metadata": {},
   "outputs": [
    {
     "name": "stdout",
     "output_type": "stream",
     "text": [
      "Salario alterado!\n"
     ]
    }
   ],
   "source": [
    "#renomeando a coluna Wage para salario e alterando para ser do tipo numérico\n",
    "data['salario'] = data['Wage'].map(lambda x : re.sub('[^0-9]+', '', x)).astype('float64')\n",
    "print('Salario alterado!')"
   ]
  },
  {
   "cell_type": "code",
   "execution_count": 8,
   "metadata": {},
   "outputs": [],
   "source": [
    "#colocando colunas estranhas para o formato desejado\n",
    "def transform(value):\n",
    "  out = str(value)\n",
    "  if '+' in out:\n",
    "    a,b = out.split('+')\n",
    "    out = int(a)+int(b)\n",
    "  elif '-' in out:\n",
    "    a,b = out.split('-')\n",
    "    if len(a)== 0: out = -1\n",
    "    else: out = int(a)-int(b)\n",
    "  elif out == '':\n",
    "    out = 0\n",
    "    \n",
    "    return float(out)\n",
    "    "
   ]
  },
  {
   "cell_type": "code",
   "execution_count": 9,
   "metadata": {},
   "outputs": [],
   "source": [
    "for i in range(9,44):\n",
    "  data.iloc[:,i] = data.iloc[:,i].apply(lambda x: transform(x))"
   ]
  },
  {
   "cell_type": "code",
   "execution_count": 10,
   "metadata": {},
   "outputs": [
    {
     "data": {
      "text/plain": [
       "165"
      ]
     },
     "execution_count": 10,
     "metadata": {},
     "output_type": "execute_result"
    }
   ],
   "source": [
    "#quantidade total de países\n",
    "#a função nunique retorna a quantidade de valores únicos em um objeto\n",
    "data.Nationality.nunique() "
   ]
  },
  {
   "cell_type": "code",
   "execution_count": 11,
   "metadata": {},
   "outputs": [
    {
     "data": {
      "text/plain": [
       "England                1630\n",
       "Germany                1140\n",
       "Spain                  1019\n",
       "France                  978\n",
       "Argentina               965\n",
       "Brazil                  812\n",
       "Italy                   799\n",
       "Colombia                592\n",
       "Japan                   469\n",
       "Netherlands             429\n",
       "Republic of Ireland     417\n",
       "United States           381\n",
       "Chile                   375\n",
       "Sweden                  368\n",
       "Portugal                367\n",
       "Mexico                  360\n",
       "Denmark                 346\n",
       "Poland                  337\n",
       "Norway                  333\n",
       "Korea Republic          330\n",
       "Saudi Arabia            329\n",
       "Russia                  306\n",
       "Scotland                300\n",
       "Turkey                  291\n",
       "Belgium                 272\n",
       "Austria                 266\n",
       "Switzerland             233\n",
       "Australia               227\n",
       "Uruguay                 153\n",
       "Serbia                  133\n",
       "                       ... \n",
       "Namibia                   2\n",
       "Kuwait                    2\n",
       "Libya                     2\n",
       "Thailand                  2\n",
       "Ethiopia                  2\n",
       "El Salvador               2\n",
       "Cuba                      2\n",
       "Chad                      2\n",
       "Sudan                     2\n",
       "Swaziland                 1\n",
       "Hong Kong                 1\n",
       "Fiji                      1\n",
       "Eritrea                   1\n",
       "Kyrgyzstan                1\n",
       "San Marino                1\n",
       "Brunei Darussalam         1\n",
       "Mauritius                 1\n",
       "Turkmenistan              1\n",
       "Barbados                  1\n",
       "Sri Lanka                 1\n",
       "Vietnam                   1\n",
       "Burundi                   1\n",
       "São Tomé & Príncipe       1\n",
       "St Lucia                  1\n",
       "Guam                      1\n",
       "Oman                      1\n",
       "Somalia                   1\n",
       "Guatemala                 1\n",
       "Grenada                   1\n",
       "Belize                    1\n",
       "Name: Nationality, Length: 165, dtype: int64"
      ]
     },
     "execution_count": 11,
     "metadata": {},
     "output_type": "execute_result"
    }
   ],
   "source": [
    "#os paises com maior numero de jogadores\n",
    "data['Nationality'].value_counts()"
   ]
  },
  {
   "cell_type": "code",
   "execution_count": 12,
   "metadata": {},
   "outputs": [
    {
     "data": {
      "text/plain": [
       "25.144541460430453"
      ]
     },
     "execution_count": 12,
     "metadata": {},
     "output_type": "execute_result"
    }
   ],
   "source": [
    "#media de idades\n",
    "data.Age.mean()"
   ]
  },
  {
   "cell_type": "code",
   "execution_count": 13,
   "metadata": {},
   "outputs": [
    {
     "data": {
      "text/plain": [
       "25    1522\n",
       "23    1394\n",
       "24    1334\n",
       "22    1324\n",
       "21    1286\n",
       "20    1245\n",
       "26    1202\n",
       "27    1152\n",
       "29    1121\n",
       "19    1069\n",
       "28    1051\n",
       "30     804\n",
       "18     672\n",
       "31     671\n",
       "33     617\n",
       "32     506\n",
       "34     272\n",
       "17     258\n",
       "35     191\n",
       "36     136\n",
       "37      69\n",
       "38      36\n",
       "39      20\n",
       "16      13\n",
       "40       8\n",
       "41       3\n",
       "43       2\n",
       "44       2\n",
       "47       1\n",
       "Name: Age, dtype: int64"
      ]
     },
     "execution_count": 13,
     "metadata": {},
     "output_type": "execute_result"
    }
   ],
   "source": [
    "#quantidade de jogadores por idade\n",
    "data['Age'].value_counts()"
   ]
  },
  {
   "cell_type": "code",
   "execution_count": 14,
   "metadata": {},
   "outputs": [],
   "source": [
    "#media de idade por club\n",
    "mediaPorClub = data.groupby('Club').Age.mean()"
   ]
  },
  {
   "cell_type": "code",
   "execution_count": 15,
   "metadata": {},
   "outputs": [
    {
     "name": "stdout",
     "output_type": "stream",
     "text": [
      "Club\n",
      " SSV Jahn Regensburg        24.571429\n",
      "1. FC Heidenheim            24.615385\n",
      "1. FC Kaiserslautern        22.620690\n",
      "1. FC Köln                  24.166667\n",
      "1. FC Magdeburg             25.200000\n",
      "1. FC Nürnberg              24.714286\n",
      "1. FC Union Berlin          25.370370\n",
      "1. FSV Mainz 05             24.200000\n",
      "AC Ajaccio                  25.375000\n",
      "AC Horsens                  24.166667\n",
      "AD Alcorcón                 28.360000\n",
      "ADO Den Haag                24.384615\n",
      "AEK Athens                  24.857143\n",
      "AFC Eskilstuna              24.370370\n",
      "AFC Wimbledon               24.629630\n",
      "AIK Solna                   25.166667\n",
      "AJ Auxerre                  23.800000\n",
      "AS Monaco                   23.424242\n",
      "AS Nancy Lorraine           26.307692\n",
      "AS Saint-Étienne            23.800000\n",
      "AZ Alkmaar                  23.000000\n",
      "Aalborg BK                  23.259259\n",
      "Aalesunds FK                23.727273\n",
      "Aarhus GF                   24.259259\n",
      "Aberdeen                    24.541667\n",
      "Accrington Stanley          22.541667\n",
      "Adelaide United             25.150000\n",
      "Ajax                        22.068966\n",
      "Akhisar Belediyespor        27.846154\n",
      "Al Ahli                     26.129032\n",
      "                              ...    \n",
      "Vitória                     28.200000\n",
      "Vitória Guimarães           23.733333\n",
      "Vitória Setúbal             25.111111\n",
      "Vålerenga Fotball           23.923077\n",
      "Vélez Sarsfield             23.285714\n",
      "Waasland-Beveren            23.115385\n",
      "Walsall                     22.142857\n",
      "Watford                     26.250000\n",
      "Wellington Phoenix          25.416667\n",
      "Werder Bremen II            21.400000\n",
      "West Bromwich Albion        25.827586\n",
      "West Ham United             24.406250\n",
      "Western Sydney Wanderers    25.880000\n",
      "Wigan Athletic              24.678571\n",
      "Willem II                   22.821429\n",
      "Wisła Kraków                25.629630\n",
      "Wisła Płock                 25.960000\n",
      "Wolfsberger AC              25.520000\n",
      "Wolverhampton Wanderers     23.600000\n",
      "Wycombe Wanderers           27.120000\n",
      "Würzburger FV               24.043478\n",
      "Yeovil Town                 23.142857\n",
      "Yokohama F. Marinos         25.538462\n",
      "Zagłębie Lubin              25.370370\n",
      "Zenit St. Petersburg        26.000000\n",
      "Águilas Doradas             26.071429\n",
      "Örebro SK                   25.565217\n",
      "Östersunds FK               25.375000\n",
      "İstanbul Başakşehir FK      28.074074\n",
      "Śląsk Wrocław               26.680000\n",
      "Name: Age, Length: 647, dtype: float64\n"
     ]
    }
   ],
   "source": [
    "print(mediaPorClub)"
   ]
  },
  {
   "cell_type": "code",
   "execution_count": 16,
   "metadata": {},
   "outputs": [],
   "source": [
    "#media de salario/semana\n",
    "data.salario.mean()\n",
    " \n",
    "#média de salário por clube\n",
    "mediaSalarioPorClub = data.groupby('Club').salario.mean()\n",
    " \n",
    "#quanto cada clube gasta com salarios\n",
    "#o sort_values foi usado para ordenar os valores do maior para o menor\n",
    "gastoComSalario = data.groupby('Club').salario.sum().sort_values(ascending = False) \n",
    " \n",
    "#overall por idade\n",
    "RatingPorIdade = data.groupby('Age').Overall.agg(['min','max','mean'])\n",
    " \n",
    "#potencial por idade\n",
    "potencialPorIdade = data.groupby('Age').Potential.agg(['min','max','mean'])"
   ]
  },
  {
   "cell_type": "code",
   "execution_count": 19,
   "metadata": {},
   "outputs": [],
   "source": [
    "#media de idade por club\n",
    "mediaPorClub = data.groupby('Club').Age.mean()"
   ]
  },
  {
   "cell_type": "code",
   "execution_count": 20,
   "metadata": {},
   "outputs": [
    {
     "name": "stdout",
     "output_type": "stream",
     "text": [
      "Club\n",
      " SSV Jahn Regensburg         4.142857\n",
      "1. FC Heidenheim             8.153846\n",
      "1. FC Kaiserslautern         6.275862\n",
      "1. FC Köln                  25.366667\n",
      "1. FC Magdeburg              1.080000\n",
      "1. FC Nürnberg               7.214286\n",
      "1. FC Union Berlin          16.851852\n",
      "1. FSV Mainz 05             19.566667\n",
      "AC Ajaccio                   2.833333\n",
      "AC Horsens                   2.125000\n",
      "AD Alcorcón                  6.160000\n",
      "ADO Den Haag                 6.307692\n",
      "AEK Athens                   1.000000\n",
      "AFC Eskilstuna               1.444444\n",
      "AFC Wimbledon                3.518519\n",
      "AIK Solna                    3.833333\n",
      "AJ Auxerre                   4.366667\n",
      "AS Monaco                   26.272727\n",
      "AS Nancy Lorraine            4.192308\n",
      "AS Saint-Étienne            21.433333\n",
      "AZ Alkmaar                   7.111111\n",
      "Aalborg BK                   3.666667\n",
      "Aalesunds FK                 1.772727\n",
      "Aarhus GF                    4.296296\n",
      "Aberdeen                     5.291667\n",
      "Accrington Stanley           2.416667\n",
      "Adelaide United              2.500000\n",
      "Ajax                         9.034483\n",
      "Akhisar Belediyespor        10.000000\n",
      "Al Ahli                     19.677419\n",
      "                              ...    \n",
      "Vitória                      6.500000\n",
      "Vitória Guimarães            7.466667\n",
      "Vitória Setúbal              5.259259\n",
      "Vålerenga Fotball            2.038462\n",
      "Vélez Sarsfield              5.178571\n",
      "Waasland-Beveren             5.192308\n",
      "Walsall                      3.714286\n",
      "Watford                     40.093750\n",
      "Wellington Phoenix           1.625000\n",
      "Werder Bremen II             1.000000\n",
      "West Bromwich Albion        43.172414\n",
      "West Ham United             60.468750\n",
      "Western Sydney Wanderers     3.240000\n",
      "Wigan Athletic               6.071429\n",
      "Willem II                    4.857143\n",
      "Wisła Kraków                 3.629630\n",
      "Wisła Płock                  2.120000\n",
      "Wolfsberger AC               2.720000\n",
      "Wolverhampton Wanderers     24.833333\n",
      "Wycombe Wanderers            3.160000\n",
      "Würzburger FV                1.000000\n",
      "Yeovil Town                  2.714286\n",
      "Yokohama F. Marinos          3.000000\n",
      "Zagłębie Lubin               3.259259\n",
      "Zenit St. Petersburg        45.433333\n",
      "Águilas Doradas              1.357143\n",
      "Örebro SK                    1.782609\n",
      "Östersunds FK                2.000000\n",
      "İstanbul Başakşehir FK      18.925926\n",
      "Śląsk Wrocław                3.400000\n",
      "Name: salario, Length: 647, dtype: float64\n"
     ]
    }
   ],
   "source": [
    "print(mediaSalarioPorClub)"
   ]
  },
  {
   "cell_type": "code",
   "execution_count": 22,
   "metadata": {},
   "outputs": [
    {
     "name": "stdout",
     "output_type": "stream",
     "text": [
      "Club\n",
      "FC Barcelona               4792.0\n",
      "Real Madrid CF             4751.0\n",
      "Manchester United          3653.0\n",
      "Chelsea                    3537.0\n",
      "FC Bayern Munich           3273.0\n",
      "Juventus                   3165.0\n",
      "Manchester City            3152.0\n",
      "Arsenal                    3007.0\n",
      "Liverpool                  2664.0\n",
      "Everton                    2499.0\n",
      "Paris Saint-Germain        2198.0\n",
      "Tottenham Hotspur          2179.0\n",
      "West Ham United            1935.0\n",
      "Milan                      1814.0\n",
      "Borussia Dortmund          1705.0\n",
      "Southampton                1689.0\n",
      "Napoli                     1624.0\n",
      "Roma                       1618.0\n",
      "Atlético Madrid            1581.0\n",
      "Leicester City             1423.0\n",
      "Stoke City                 1383.0\n",
      "Swansea City               1377.0\n",
      "Fenerbahçe SK              1373.0\n",
      "Zenit St. Petersburg       1363.0\n",
      "Inter                      1336.0\n",
      "Newcastle United           1323.0\n",
      "VfL Wolfsburg              1312.0\n",
      "Watford                    1283.0\n",
      "Galatasaray SK             1274.0\n",
      "Bournemouth                1263.0\n",
      "                            ...  \n",
      "Sparta Praha                 28.0\n",
      "Sportfreunde Lotte           28.0\n",
      "Envigado FC                  28.0\n",
      "AEK Athens                   28.0\n",
      "Panathinaikos FC             28.0\n",
      "HJK Helsinki                 27.0\n",
      "Hallescher FC                27.0\n",
      "1. FC Magdeburg              27.0\n",
      "SC Preußen Münster           27.0\n",
      "PAOK Thessaloniki            27.0\n",
      "Tigres FC                    27.0\n",
      "FSV Zwickau                  26.0\n",
      "Sligo Rovers                 25.0\n",
      "Bohemian FC                  25.0\n",
      "Drogheda United              25.0\n",
      "Shakhtar Donetsk             25.0\n",
      "Shamrock Rovers              25.0\n",
      "Finn Harps                   25.0\n",
      "Werder Bremen II             25.0\n",
      "SC Fortuna Köln              25.0\n",
      "St. Patrick's Athletic       25.0\n",
      "SG Sonnenhof Großaspach      25.0\n",
      "Halmstads BK                 25.0\n",
      "Chemnitzer FC                24.0\n",
      "Derry City                   24.0\n",
      "Cork City                    23.0\n",
      "Würzburger FV                23.0\n",
      "Limerick FC                  23.0\n",
      "Bray Wanderers               21.0\n",
      "VfR Aalen                    21.0\n",
      "Name: salario, Length: 647, dtype: float64\n"
     ]
    }
   ],
   "source": [
    "#Gasto salarial de cada club\n",
    "print(gastoComSalario)"
   ]
  },
  {
   "cell_type": "code",
   "execution_count": 23,
   "metadata": {},
   "outputs": [
    {
     "name": "stdout",
     "output_type": "stream",
     "text": [
      "     min  max       mean\n",
      "Age                     \n",
      "16    51   65  57.846154\n",
      "17    46   76  56.089147\n",
      "18    46   83  57.287202\n",
      "19    47   80  59.430309\n",
      "20    48   83  61.559839\n",
      "21    48   84  63.395023\n",
      "22    48   84  64.762085\n",
      "23    50   88  66.117647\n",
      "24    50   88  67.182909\n",
      "25    49   92  68.008541\n",
      "26    50   90  68.643927\n",
      "27    51   90  68.943576\n",
      "28    46   91  69.058040\n",
      "29    52   90  69.722569\n",
      "30    49   93  69.847015\n",
      "31    52   92  69.767511\n",
      "32    48   94  69.468379\n",
      "33    51   88  69.709887\n",
      "34    49   86  68.911765\n",
      "35    54   88  69.151832\n",
      "36    52   85  69.080882\n",
      "37    52   80  68.536232\n",
      "38    52   79  68.666667\n",
      "39    52   89  67.900000\n",
      "40    56   76  67.625000\n",
      "41    57   69  64.333333\n",
      "43    55   55  55.000000\n",
      "44    70   71  70.500000\n",
      "47    46   46  46.000000\n"
     ]
    }
   ],
   "source": [
    "#overall por idade\n",
    "print(RatingPorIdade)"
   ]
  },
  {
   "cell_type": "code",
   "execution_count": 24,
   "metadata": {},
   "outputs": [
    {
     "name": "stdout",
     "output_type": "stream",
     "text": [
      "     min  max       mean\n",
      "Age                     \n",
      "16    66   90  76.538462\n",
      "17    59   89  73.492248\n",
      "18    56   94  72.654762\n",
      "19    56   89  72.815716\n",
      "20    57   92  72.717269\n",
      "21    53   92  72.790047\n",
      "22    55   91  72.542296\n",
      "23    54   93  72.489957\n",
      "24    53   93  72.090705\n",
      "25    52   94  70.836399\n",
      "26    50   92  70.574875\n",
      "27    51   90  69.697917\n",
      "28    46   91  69.304472\n",
      "29    52   90  69.763604\n",
      "30    49   93  69.853234\n",
      "31    52   92  69.767511\n",
      "32    48   94  69.468379\n",
      "33    51   88  69.709887\n",
      "34    49   86  68.911765\n",
      "35    54   88  69.151832\n",
      "36    52   85  69.080882\n",
      "37    52   80  68.536232\n",
      "38    52   79  68.666667\n",
      "39    52   89  67.900000\n",
      "40    56   76  67.625000\n",
      "41    57   69  64.333333\n",
      "43    55   55  55.000000\n",
      "44    70   71  70.500000\n",
      "47    46   46  46.000000\n"
     ]
    }
   ],
   "source": [
    "#potencial por idade\n",
    "print(potencialPorIdade)"
   ]
  },
  {
   "cell_type": "code",
   "execution_count": 25,
   "metadata": {},
   "outputs": [],
   "source": [
    "#Quais clubes possuem as melhores médias de Overall? \n",
    "mediaOverallPorClub = data.groupby('Club').Overall.mean().sort_values(ascending = False)"
   ]
  },
  {
   "cell_type": "code",
   "execution_count": 28,
   "metadata": {},
   "outputs": [
    {
     "name": "stderr",
     "output_type": "stream",
     "text": [
      "C:\\Users\\xande\\Anaconda3\\lib\\site-packages\\IPython\\core\\interactiveshell.py:3020: DtypeWarning: Columns (23,35) have mixed types. Specify dtype option on import or set low_memory=False.\n",
      "  interactivity=interactivity, compiler=compiler, result=result)\n"
     ]
    }
   ],
   "source": [
    "filename = 'CompleteDataset.csv'\n",
    "df = pd.read_csv(filename)"
   ]
  },
  {
   "cell_type": "code",
   "execution_count": 32,
   "metadata": {},
   "outputs": [
    {
     "data": {
      "text/html": [
       "<div>\n",
       "<style scoped>\n",
       "    .dataframe tbody tr th:only-of-type {\n",
       "        vertical-align: middle;\n",
       "    }\n",
       "\n",
       "    .dataframe tbody tr th {\n",
       "        vertical-align: top;\n",
       "    }\n",
       "\n",
       "    .dataframe thead th {\n",
       "        text-align: right;\n",
       "    }\n",
       "</style>\n",
       "<table border=\"1\" class=\"dataframe\">\n",
       "  <thead>\n",
       "    <tr style=\"text-align: right;\">\n",
       "      <th></th>\n",
       "      <th>Club</th>\n",
       "    </tr>\n",
       "  </thead>\n",
       "  <tbody>\n",
       "    <tr>\n",
       "      <th>Villarreal CF</th>\n",
       "      <td>35</td>\n",
       "    </tr>\n",
       "    <tr>\n",
       "      <th>UD Las Palmas</th>\n",
       "      <td>34</td>\n",
       "    </tr>\n",
       "    <tr>\n",
       "      <th>Manchester United</th>\n",
       "      <td>34</td>\n",
       "    </tr>\n",
       "    <tr>\n",
       "      <th>VfL Wolfsburg</th>\n",
       "      <td>34</td>\n",
       "    </tr>\n",
       "    <tr>\n",
       "      <th>FC Nantes</th>\n",
       "      <td>34</td>\n",
       "    </tr>\n",
       "    <tr>\n",
       "      <th>Borussia Dortmund</th>\n",
       "      <td>34</td>\n",
       "    </tr>\n",
       "    <tr>\n",
       "      <th>OGC Nice</th>\n",
       "      <td>34</td>\n",
       "    </tr>\n",
       "    <tr>\n",
       "      <th>Olympique Lyonnais</th>\n",
       "      <td>34</td>\n",
       "    </tr>\n",
       "    <tr>\n",
       "      <th>Eintracht Frankfurt</th>\n",
       "      <td>33</td>\n",
       "    </tr>\n",
       "    <tr>\n",
       "      <th>AS Monaco</th>\n",
       "      <td>33</td>\n",
       "    </tr>\n",
       "  </tbody>\n",
       "</table>\n",
       "</div>"
      ],
      "text/plain": [
       "                     Club\n",
       "Villarreal CF          35\n",
       "UD Las Palmas          34\n",
       "Manchester United      34\n",
       "VfL Wolfsburg          34\n",
       "FC Nantes              34\n",
       "Borussia Dortmund      34\n",
       "OGC Nice               34\n",
       "Olympique Lyonnais     34\n",
       "Eintracht Frankfurt    33\n",
       "AS Monaco              33"
      ]
     },
     "execution_count": 32,
     "metadata": {},
     "output_type": "execute_result"
    }
   ],
   "source": [
    "#Quais clubes possuem as melhores médias de Overall? \n",
    "mediaOverallPorClub = data.groupby('Club').Overall.mean().sort_values(ascending = False)\n",
    "df['Club'].value_counts().to_frame().head(10)"
   ]
  },
  {
   "cell_type": "code",
   "execution_count": 43,
   "metadata": {},
   "outputs": [
    {
     "data": {
      "text/plain": [
       "<matplotlib.axes._subplots.AxesSubplot at 0x22933c1cb70>"
      ]
     },
     "execution_count": 43,
     "metadata": {},
     "output_type": "execute_result"
    },
    {
     "data": {
      "image/png": "[encoded data removed]",
      "text/plain": [
       "<Figure size 432x288 with 1 Axes>"
      ]
     },
     "metadata": {
      "needs_background": "light"
     },
     "output_type": "display_data"
    }
   ],
   "source": [
    "#distribuições de Idade\n",
    "data.Age.plot(kind='hist', bins=20)"
   ]
  },
  {
   "cell_type": "code",
   "execution_count": 44,
   "metadata": {},
   "outputs": [
    {
     "data": {
      "text/plain": [
       "<matplotlib.axes._subplots.AxesSubplot at 0x22934d115f8>"
      ]
     },
     "execution_count": 44,
     "metadata": {},
     "output_type": "execute_result"
    },
    {
     "data": {
      "image/png": "[encoded data removed]",
      "text/plain": [
       "<Figure size 432x288 with 1 Axes>"
      ]
     },
     "metadata": {
      "needs_background": "light"
     },
     "output_type": "display_data"
    }
   ],
   "source": [
    "#distribuições de Overall\n",
    "data.Overall.plot(kind='hist', bins=20)"
   ]
  },
  {
   "cell_type": "code",
   "execution_count": 48,
   "metadata": {},
   "outputs": [
    {
     "data": {
      "image/png": "[encoded data removed]",
      "text/plain": [
       "<Figure size 432x288 with 1 Axes>"
      ]
     },
     "metadata": {},
     "output_type": "display_data"
    }
   ],
   "source": [
    "#box plot para analisar salarios dos melhores clubs\n",
    "sns.set(style=\"whitegrid\", color_codes=True)\n",
    "sns.boxplot(x=\"Club\", y=\"salario\", hue=\"Club\", data=melhoresClubs, palette=\"PRGn\")\n",
    "sns.despine(offset=10, trim=True)"
   ]
  },
  {
   "cell_type": "code",
   "execution_count": 50,
   "metadata": {},
   "outputs": [
    {
     "data": {
      "text/plain": [
       "Text(0.5, 1.0, 'Clubes com os melhores jogadores')"
      ]
     },
     "execution_count": 50,
     "metadata": {},
     "output_type": "execute_result"
    },
    {
     "data": {
      "image/png": "[encoded data removed]",
      "text/plain": [
       "<Figure size 432x288 with 1 Axes>"
      ]
     },
     "metadata": {},
     "output_type": "display_data"
    }
   ],
   "source": [
    "#Melhores clubes baseado em seu Overall\n",
    "best = data[data['Overall']> 85]\n",
    "grouped = best.groupby('Club')\n",
    "count_by_club = grouped.count()['Name'].sort_values(ascending = False)\n",
    " \n",
    "ax = sns.countplot(x = 'Club', data = best, order = count_by_club.index)\n",
    "ax.set_xticklabels(labels = count_by_club.index, rotation='vertical')\n",
    "ax.set_ylabel('Numero de jogadores')\n",
    "ax.set_xlabel('Clube')\n",
    "ax.set_title('Clubes com os melhores jogadores')"
   ]
  },
  {
   "cell_type": "code",
   "execution_count": null,
   "metadata": {},
   "outputs": [],
   "source": []
  }
 ],
 "metadata": {
  "kernelspec": {
   "display_name": "Python 3",
   "language": "python",
   "name": "python3"
  },
  "language_info": {
   "codemirror_mode": {
    "name": "ipython",
    "version": 3
   },
   "file_extension": ".py",
   "mimetype": "text/x-python",
   "name": "python",
   "nbconvert_exporter": "python",
   "pygments_lexer": "ipython3",
   "version": "3.7.1"
  }
 },
 "nbformat": 4,
 "nbformat_minor": 2
}
